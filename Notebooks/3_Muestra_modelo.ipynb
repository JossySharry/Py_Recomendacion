{
 "cells": [
  {
   "cell_type": "markdown",
   "metadata": {},
   "source": []
  },
  {
   "cell_type": "code",
   "execution_count": 2,
   "metadata": {},
   "outputs": [],
   "source": [
    "import pandas as pd\n",
    "from sklearn.feature_extraction.text import TfidfVectorizer\n",
    "from sklearn.metrics.pairwise import cosine_similarity\n",
    "import nltk\n",
    "from nltk.corpus import stopwords"
   ]
  },
  {
   "cell_type": "code",
   "execution_count": 3,
   "metadata": {},
   "outputs": [],
   "source": [
    "# Cargar el dataset\n",
    "df1 = pd.read_parquet('D:/2024/HenryData/Py_Individual/PI_Recomendacion/Datasets/df_model.parquet') "
   ]
  },
  {
   "cell_type": "code",
   "execution_count": 4,
   "metadata": {},
   "outputs": [
    {
     "data": {
      "text/html": [
       "<div>\n",
       "<style scoped>\n",
       "    .dataframe tbody tr th:only-of-type {\n",
       "        vertical-align: middle;\n",
       "    }\n",
       "\n",
       "    .dataframe tbody tr th {\n",
       "        vertical-align: top;\n",
       "    }\n",
       "\n",
       "    .dataframe thead th {\n",
       "        text-align: right;\n",
       "    }\n",
       "</style>\n",
       "<table border=\"1\" class=\"dataframe\">\n",
       "  <thead>\n",
       "    <tr style=\"text-align: right;\">\n",
       "      <th></th>\n",
       "      <th>id</th>\n",
       "      <th>title</th>\n",
       "      <th>genres</th>\n",
       "      <th>overview</th>\n",
       "      <th>actor</th>\n",
       "      <th>director</th>\n",
       "      <th>belongs_to_collection</th>\n",
       "    </tr>\n",
       "  </thead>\n",
       "  <tbody>\n",
       "    <tr>\n",
       "      <th>0</th>\n",
       "      <td>862</td>\n",
       "      <td>Toy Story</td>\n",
       "      <td>Animation, Comedy, Family</td>\n",
       "      <td>Led by Woody, Andy's toys live happily in his ...</td>\n",
       "      <td>Tom Hanks, Tim Allen, Don Rickles</td>\n",
       "      <td>John Lasseter</td>\n",
       "      <td>Toy Story Collection</td>\n",
       "    </tr>\n",
       "    <tr>\n",
       "      <th>1</th>\n",
       "      <td>8844</td>\n",
       "      <td>Jumanji</td>\n",
       "      <td>Adventure, Fantasy, Family</td>\n",
       "      <td>When siblings Judy and Peter discover an encha...</td>\n",
       "      <td>Robin Williams, Jonathan Hyde, Kirsten Dunst</td>\n",
       "      <td>Joe Johnston</td>\n",
       "      <td>No collecction</td>\n",
       "    </tr>\n",
       "  </tbody>\n",
       "</table>\n",
       "</div>"
      ],
      "text/plain": [
       "     id      title                      genres  \\\n",
       "0   862  Toy Story   Animation, Comedy, Family   \n",
       "1  8844    Jumanji  Adventure, Fantasy, Family   \n",
       "\n",
       "                                            overview  \\\n",
       "0  Led by Woody, Andy's toys live happily in his ...   \n",
       "1  When siblings Judy and Peter discover an encha...   \n",
       "\n",
       "                                          actor       director  \\\n",
       "0             Tom Hanks, Tim Allen, Don Rickles  John Lasseter   \n",
       "1  Robin Williams, Jonathan Hyde, Kirsten Dunst   Joe Johnston   \n",
       "\n",
       "  belongs_to_collection  \n",
       "0  Toy Story Collection  \n",
       "1        No collecction  "
      ]
     },
     "execution_count": 4,
     "metadata": {},
     "output_type": "execute_result"
    }
   ],
   "source": [
    "df1.head(2)"
   ]
  },
  {
   "cell_type": "markdown",
   "metadata": {},
   "source": [
    "Muestra representativa para deployar el modelo"
   ]
  },
  {
   "cell_type": "code",
   "execution_count": 5,
   "metadata": {},
   "outputs": [],
   "source": [
    "df_filtrado = df1[df1['belongs_to_collection'] != 'No collecction'] "
   ]
  },
  {
   "cell_type": "code",
   "execution_count": 6,
   "metadata": {},
   "outputs": [
    {
     "data": {
      "text/plain": [
       "(2554, 7)"
      ]
     },
     "execution_count": 6,
     "metadata": {},
     "output_type": "execute_result"
    }
   ],
   "source": [
    "df_filtrado.shape"
   ]
  },
  {
   "cell_type": "code",
   "execution_count": 7,
   "metadata": {},
   "outputs": [
    {
     "data": {
      "text/html": [
       "<div>\n",
       "<style scoped>\n",
       "    .dataframe tbody tr th:only-of-type {\n",
       "        vertical-align: middle;\n",
       "    }\n",
       "\n",
       "    .dataframe tbody tr th {\n",
       "        vertical-align: top;\n",
       "    }\n",
       "\n",
       "    .dataframe thead th {\n",
       "        text-align: right;\n",
       "    }\n",
       "</style>\n",
       "<table border=\"1\" class=\"dataframe\">\n",
       "  <thead>\n",
       "    <tr style=\"text-align: right;\">\n",
       "      <th></th>\n",
       "      <th>id</th>\n",
       "      <th>title</th>\n",
       "      <th>genres</th>\n",
       "      <th>overview</th>\n",
       "      <th>actor</th>\n",
       "      <th>director</th>\n",
       "      <th>belongs_to_collection</th>\n",
       "    </tr>\n",
       "  </thead>\n",
       "  <tbody>\n",
       "    <tr>\n",
       "      <th>0</th>\n",
       "      <td>862</td>\n",
       "      <td>Toy Story</td>\n",
       "      <td>Animation, Comedy, Family</td>\n",
       "      <td>Led by Woody, Andy's toys live happily in his ...</td>\n",
       "      <td>Tom Hanks, Tim Allen, Don Rickles</td>\n",
       "      <td>John Lasseter</td>\n",
       "      <td>Toy Story Collection</td>\n",
       "    </tr>\n",
       "    <tr>\n",
       "      <th>2</th>\n",
       "      <td>15602</td>\n",
       "      <td>Grumpier Old Men</td>\n",
       "      <td>Romance, Comedy</td>\n",
       "      <td>A family wedding reignites the ancient feud be...</td>\n",
       "      <td>Walter Matthau, Jack Lemmon, Ann-Margret</td>\n",
       "      <td>Howard Deutch</td>\n",
       "      <td>Grumpy Old Men Collection</td>\n",
       "    </tr>\n",
       "    <tr>\n",
       "      <th>4</th>\n",
       "      <td>11862</td>\n",
       "      <td>Father of the Bride Part II</td>\n",
       "      <td>Comedy</td>\n",
       "      <td>Just when George Banks has recovered from his ...</td>\n",
       "      <td>Steve Martin, Diane Keaton, Martin Short</td>\n",
       "      <td>Charles Shyer</td>\n",
       "      <td>Father of the Bride Collection</td>\n",
       "    </tr>\n",
       "    <tr>\n",
       "      <th>9</th>\n",
       "      <td>710</td>\n",
       "      <td>GoldenEye</td>\n",
       "      <td>Adventure, Action, Thriller</td>\n",
       "      <td>James Bond must unmask the mysterious head of ...</td>\n",
       "      <td>Pierce Brosnan, Sean Bean, Izabella Scorupco</td>\n",
       "      <td>Martin Campbell</td>\n",
       "      <td>James Bond Collection</td>\n",
       "    </tr>\n",
       "    <tr>\n",
       "      <th>12</th>\n",
       "      <td>21032</td>\n",
       "      <td>Balto</td>\n",
       "      <td>Family, Animation, Adventure</td>\n",
       "      <td>An outcast half-wolf risks his life to prevent...</td>\n",
       "      <td>Kevin Bacon, Bob Hoskins, Bridget Fonda</td>\n",
       "      <td>Simon Wells</td>\n",
       "      <td>Balto Collection</td>\n",
       "    </tr>\n",
       "  </tbody>\n",
       "</table>\n",
       "</div>"
      ],
      "text/plain": [
       "       id                        title                        genres  \\\n",
       "0     862                    Toy Story     Animation, Comedy, Family   \n",
       "2   15602             Grumpier Old Men               Romance, Comedy   \n",
       "4   11862  Father of the Bride Part II                        Comedy   \n",
       "9     710                    GoldenEye   Adventure, Action, Thriller   \n",
       "12  21032                        Balto  Family, Animation, Adventure   \n",
       "\n",
       "                                             overview  \\\n",
       "0   Led by Woody, Andy's toys live happily in his ...   \n",
       "2   A family wedding reignites the ancient feud be...   \n",
       "4   Just when George Banks has recovered from his ...   \n",
       "9   James Bond must unmask the mysterious head of ...   \n",
       "12  An outcast half-wolf risks his life to prevent...   \n",
       "\n",
       "                                           actor         director  \\\n",
       "0              Tom Hanks, Tim Allen, Don Rickles    John Lasseter   \n",
       "2       Walter Matthau, Jack Lemmon, Ann-Margret    Howard Deutch   \n",
       "4       Steve Martin, Diane Keaton, Martin Short    Charles Shyer   \n",
       "9   Pierce Brosnan, Sean Bean, Izabella Scorupco  Martin Campbell   \n",
       "12       Kevin Bacon, Bob Hoskins, Bridget Fonda      Simon Wells   \n",
       "\n",
       "             belongs_to_collection  \n",
       "0             Toy Story Collection  \n",
       "2        Grumpy Old Men Collection  \n",
       "4   Father of the Bride Collection  \n",
       "9            James Bond Collection  \n",
       "12                Balto Collection  "
      ]
     },
     "execution_count": 7,
     "metadata": {},
     "output_type": "execute_result"
    }
   ],
   "source": [
    "df_filtrado.head()"
   ]
  },
  {
   "cell_type": "code",
   "execution_count": 8,
   "metadata": {},
   "outputs": [],
   "source": [
    "# Extraer una muestra del 10% y resetear los índices\n",
    "df_muestra = df1.sample(frac=0.1, random_state=42).reset_index(drop=True)"
   ]
  },
  {
   "cell_type": "code",
   "execution_count": 9,
   "metadata": {},
   "outputs": [
    {
     "data": {
      "text/html": [
       "<div>\n",
       "<style scoped>\n",
       "    .dataframe tbody tr th:only-of-type {\n",
       "        vertical-align: middle;\n",
       "    }\n",
       "\n",
       "    .dataframe tbody tr th {\n",
       "        vertical-align: top;\n",
       "    }\n",
       "\n",
       "    .dataframe thead th {\n",
       "        text-align: right;\n",
       "    }\n",
       "</style>\n",
       "<table border=\"1\" class=\"dataframe\">\n",
       "  <thead>\n",
       "    <tr style=\"text-align: right;\">\n",
       "      <th></th>\n",
       "      <th>id</th>\n",
       "      <th>title</th>\n",
       "      <th>genres</th>\n",
       "      <th>overview</th>\n",
       "      <th>actor</th>\n",
       "      <th>director</th>\n",
       "      <th>belongs_to_collection</th>\n",
       "    </tr>\n",
       "  </thead>\n",
       "  <tbody>\n",
       "    <tr>\n",
       "      <th>0</th>\n",
       "      <td>19105</td>\n",
       "      <td>Iron Maiden: Flight 666</td>\n",
       "      <td>Documentary, Music</td>\n",
       "      <td>A chronological account of the heavy metal ban...</td>\n",
       "      <td>Bruce Dickinson, Steve Harris, Nicko McBrain</td>\n",
       "      <td>Sam Dunn, Scot McFadyen</td>\n",
       "      <td>No collecction</td>\n",
       "    </tr>\n",
       "    <tr>\n",
       "      <th>1</th>\n",
       "      <td>114150</td>\n",
       "      <td>Pitch Perfect</td>\n",
       "      <td>Comedy, Music, Romance</td>\n",
       "      <td>College student Beca knows she does not want t...</td>\n",
       "      <td>Anna Kendrick, Skylar Astin, Brittany Snow</td>\n",
       "      <td>Jason Moore</td>\n",
       "      <td>Pitch Perfect Collection</td>\n",
       "    </tr>\n",
       "    <tr>\n",
       "      <th>2</th>\n",
       "      <td>9768</td>\n",
       "      <td>Cry-Baby</td>\n",
       "      <td>Comedy, Music</td>\n",
       "      <td>A prim and proper schoolgirl goes against her ...</td>\n",
       "      <td>Johnny Depp, Amy Locane, Polly Bergen</td>\n",
       "      <td>John Waters</td>\n",
       "      <td>No collecction</td>\n",
       "    </tr>\n",
       "    <tr>\n",
       "      <th>3</th>\n",
       "      <td>17113</td>\n",
       "      <td>The Ballad of Jack and Rose</td>\n",
       "      <td>Drama</td>\n",
       "      <td>Jack Slavin is an environmentalist with a hear...</td>\n",
       "      <td>Daniel Day-Lewis, Camilla Belle, Catherine Keener</td>\n",
       "      <td>Rebecca Miller</td>\n",
       "      <td>No collecction</td>\n",
       "    </tr>\n",
       "    <tr>\n",
       "      <th>4</th>\n",
       "      <td>442087</td>\n",
       "      <td>Mike Birbiglia: Thank God for Jokes</td>\n",
       "      <td>Comedy</td>\n",
       "      <td>Mike Birbiglia declares that a joke should nev...</td>\n",
       "      <td>Mike Birbiglia, Jimmy Kimmel</td>\n",
       "      <td>Mike Birbiglia, Seth Barrish</td>\n",
       "      <td>No collecction</td>\n",
       "    </tr>\n",
       "  </tbody>\n",
       "</table>\n",
       "</div>"
      ],
      "text/plain": [
       "       id                                title                  genres  \\\n",
       "0   19105              Iron Maiden: Flight 666      Documentary, Music   \n",
       "1  114150                        Pitch Perfect  Comedy, Music, Romance   \n",
       "2    9768                             Cry-Baby           Comedy, Music   \n",
       "3   17113          The Ballad of Jack and Rose                   Drama   \n",
       "4  442087  Mike Birbiglia: Thank God for Jokes                  Comedy   \n",
       "\n",
       "                                            overview  \\\n",
       "0  A chronological account of the heavy metal ban...   \n",
       "1  College student Beca knows she does not want t...   \n",
       "2  A prim and proper schoolgirl goes against her ...   \n",
       "3  Jack Slavin is an environmentalist with a hear...   \n",
       "4  Mike Birbiglia declares that a joke should nev...   \n",
       "\n",
       "                                               actor  \\\n",
       "0       Bruce Dickinson, Steve Harris, Nicko McBrain   \n",
       "1         Anna Kendrick, Skylar Astin, Brittany Snow   \n",
       "2              Johnny Depp, Amy Locane, Polly Bergen   \n",
       "3  Daniel Day-Lewis, Camilla Belle, Catherine Keener   \n",
       "4                       Mike Birbiglia, Jimmy Kimmel   \n",
       "\n",
       "                       director     belongs_to_collection  \n",
       "0       Sam Dunn, Scot McFadyen            No collecction  \n",
       "1                   Jason Moore  Pitch Perfect Collection  \n",
       "2                   John Waters            No collecction  \n",
       "3                Rebecca Miller            No collecction  \n",
       "4  Mike Birbiglia, Seth Barrish            No collecction  "
      ]
     },
     "execution_count": 9,
     "metadata": {},
     "output_type": "execute_result"
    }
   ],
   "source": [
    "df_muestra.head()"
   ]
  },
  {
   "cell_type": "code",
   "execution_count": 10,
   "metadata": {},
   "outputs": [],
   "source": [
    "df=df_muestra.copy()"
   ]
  },
  {
   "cell_type": "code",
   "execution_count": 11,
   "metadata": {},
   "outputs": [
    {
     "data": {
      "text/plain": [
       "(2163, 7)"
      ]
     },
     "execution_count": 11,
     "metadata": {},
     "output_type": "execute_result"
    }
   ],
   "source": [
    "df.shape"
   ]
  },
  {
   "cell_type": "code",
   "execution_count": 12,
   "metadata": {},
   "outputs": [],
   "source": [
    "# Inicializa el vectorizador TF-IDF\n",
    "tfidf = TfidfVectorizer(stop_words='english')\n",
    "\n",
    "# Genera la matriz de TF-IDF para 'overview'\n",
    "tfidf_matrix = tfidf.fit_transform(df['overview'])"
   ]
  },
  {
   "cell_type": "code",
   "execution_count": 13,
   "metadata": {},
   "outputs": [],
   "source": [
    "# Función para extraer y unificar la información de género, actor, director y coleccion\n",
    "def combine_features(row):\n",
    "    return row['genres'] + \" \" + row['actor'] + \" \" + row['director']+ \" \" + row['belongs_to_collection']\n",
    "\n",
    "# Aplica la función de combinación de características\n",
    "df['combined_features'] = df.apply(combine_features, axis=1)"
   ]
  },
  {
   "cell_type": "code",
   "execution_count": 14,
   "metadata": {},
   "outputs": [],
   "source": [
    "tfidf_combined = TfidfVectorizer(max_features=5000, stop_words='english')\n",
    "combined_matrix = tfidf_combined.fit_transform(df['combined_features'])"
   ]
  },
  {
   "cell_type": "code",
   "execution_count": 15,
   "metadata": {},
   "outputs": [],
   "source": [
    "# Calcula la similitud del coseno sobre la matriz TF-IDF de la combinación de características\n",
    "cosine_sim = cosine_similarity(combined_matrix)"
   ]
  },
  {
   "cell_type": "code",
   "execution_count": 16,
   "metadata": {},
   "outputs": [],
   "source": [
    "def get_recommendations_1(title, cosine_sim):\n",
    "    # Normaliza el título para evitar problemas con mayúsculas/minúsculas\n",
    "    title = title.strip().lower()\n",
    "\n",
    "    # Filtra el DataFrame con una comparación insensible a las mayúsculas\n",
    "    matches = df[df['title'].str.lower() == title]\n",
    "\n",
    "    # Verifica si se encontraron coincidencias\n",
    "    if matches.empty:\n",
    "        return f\"No se encontró la película '{title.capitalize()}' en el DataFrame.\"\n",
    "\n",
    "    try:\n",
    "        # Obtiene el índice de la primera coincidencia\n",
    "        idx = matches.index[0]\n",
    "\n",
    "        # Calcula las puntuaciones de similitud de todas las películas\n",
    "        sim_scores = list(enumerate(cosine_sim[idx]))\n",
    "\n",
    "        # Ordena las películas según los puntajes de similitud\n",
    "        sim_scores = sorted(sim_scores, key=lambda x: x[1], reverse=True)\n",
    "\n",
    "        # Obtén los índices de las 5 películas más similares (excluyendo la misma)\n",
    "        top_indices = [i[0] for i in sim_scores[1:6]]\n",
    "\n",
    "        # Retorna los títulos de las películas recomendadas\n",
    "        return df['title'].iloc[top_indices].tolist()\n",
    "    \n",
    "    except Exception as e:\n",
    "        return f\"Error: {str(e)}\""
   ]
  },
  {
   "cell_type": "code",
   "execution_count": 17,
   "metadata": {},
   "outputs": [
    {
     "data": {
      "text/plain": [
       "['Matilda',\n",
       " 'Romancing the Stone',\n",
       " 'Big Fish',\n",
       " \"What's the Worst That Could Happen?\",\n",
       " 'Solitary Man']"
      ]
     },
     "execution_count": 17,
     "metadata": {},
     "output_type": "execute_result"
    }
   ],
   "source": [
    "# Llamar a la función\n",
    "get_recommendations_1('Batman Returns', cosine_sim)"
   ]
  },
  {
   "cell_type": "code",
   "execution_count": 25,
   "metadata": {},
   "outputs": [
    {
     "data": {
      "text/plain": [
       "['Up in the Air', 'Mr. Right', 'Cake', 'The Voices', 'The Colour of Magic']"
      ]
     },
     "execution_count": 25,
     "metadata": {},
     "output_type": "execute_result"
    }
   ],
   "source": [
    "# Llamar a la función\n",
    "get_recommendations_1('Pitch Perfect', cosine_sim)"
   ]
  }
 ],
 "metadata": {
  "kernelspec": {
   "display_name": "Python 3",
   "language": "python",
   "name": "python3"
  },
  "language_info": {
   "codemirror_mode": {
    "name": "ipython",
    "version": 3
   },
   "file_extension": ".py",
   "mimetype": "text/x-python",
   "name": "python",
   "nbconvert_exporter": "python",
   "pygments_lexer": "ipython3",
   "version": "3.11.4"
  }
 },
 "nbformat": 4,
 "nbformat_minor": 2
}
