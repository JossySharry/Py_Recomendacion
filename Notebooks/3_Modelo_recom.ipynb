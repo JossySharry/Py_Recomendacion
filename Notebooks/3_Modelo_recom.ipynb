{
 "cells": [
  {
   "cell_type": "markdown",
   "metadata": {},
   "source": [
    "# 3. Modelo de Machine Learning"
   ]
  },
  {
   "cell_type": "markdown",
   "metadata": {},
   "source": [
    "Hemos concluido nuestro EDA, el cual nos ha  permitido entender las caracteríticas de los datos y seleccionar las variables para esta etapa que es la construcción y entrenamiento del modelo de Machine Learning, para armar un sistema de recomendación de películas. \n",
    "\n",
    "Se ingesta el archivo producto del EDA, el cual contine las variablescon características relevantes que permiten capturar similitudes entre ellas, a fin de implementar un sistema de recomendación:\n",
    "\n",
    "- id: Identificador único de cada película, fundamental para enlazar y mostrar las recomendaciones.\n",
    "\n",
    "- title: Nombre de la película, utilizado para presentar las recomendaciones de manera comprensible para el usuario.\n",
    "\n",
    "- genres: La similitud en los géneros es clave para agrupar películas con temas similares.\n",
    "\n",
    "- overview: Puedes generar una matriz de similitud de texto a partir de descripciones.\n",
    "\n",
    "- actor: Pueden ayudar a mejorar la relevancia de las recomendaciones.\n",
    "\n",
    "- director: Pueden ayudar a mejorar la relevancia de las recomendaciones.\n",
    "\n",
    "- belongs_to_collection: Señala si la película pertenece a una franquicia o serie, lo que permite recomendaciones basadas en secuelas o temas compartidos."
   ]
  },
  {
   "cell_type": "markdown",
   "metadata": {},
   "source": [
    "Para implementar el sistema de recomendación utilizaremos el Modelo basado en la similitud de cosenos, este método es adecuado para sistemas de recomendación basados en texto, ya que permite identificar películas que tiene una relación semánticas fuerte en función de sus características textuales.\n",
    "En ese sentido utilizaremos el vectorizador TF-IDF(Term Frequency-Inverse Document Frequency), el cual transforma el texto en vectores numéricos, asignando mayor peso a términos distintivos y reduciendo la influencia de palabras comunes. De esta manera, la similitud de coseno, aplicada sobre los vectores TF-IDF, nos permitirá calcular la proximidad entre películas y recomendar aquellas que sean más similares en términos de contenido y características específicas."
   ]
  },
  {
   "cell_type": "code",
   "execution_count": 2,
   "metadata": {},
   "outputs": [],
   "source": [
    "# Importamos las librerias a utilizar\n",
    "import pandas as pd\n",
    "from sklearn.feature_extraction.text import TfidfVectorizer\n",
    "from sklearn.metrics.pairwise import cosine_similarity\n",
    "import nltk\n",
    "from nltk.corpus import stopwords\n",
    "#import re\n",
    "#import joblib"
   ]
  },
  {
   "cell_type": "code",
   "execution_count": 3,
   "metadata": {},
   "outputs": [],
   "source": [
    "# Cargar el dataset\n",
    "df = pd.read_parquet('D:/2024/HenryData/Py_Individual/PI_Recomendacion/Datasets/df_model.parquet') "
   ]
  },
  {
   "cell_type": "code",
   "execution_count": 4,
   "metadata": {},
   "outputs": [
    {
     "data": {
      "text/html": [
       "<div>\n",
       "<style scoped>\n",
       "    .dataframe tbody tr th:only-of-type {\n",
       "        vertical-align: middle;\n",
       "    }\n",
       "\n",
       "    .dataframe tbody tr th {\n",
       "        vertical-align: top;\n",
       "    }\n",
       "\n",
       "    .dataframe thead th {\n",
       "        text-align: right;\n",
       "    }\n",
       "</style>\n",
       "<table border=\"1\" class=\"dataframe\">\n",
       "  <thead>\n",
       "    <tr style=\"text-align: right;\">\n",
       "      <th></th>\n",
       "      <th>id</th>\n",
       "      <th>title</th>\n",
       "      <th>genres</th>\n",
       "      <th>overview</th>\n",
       "      <th>actor</th>\n",
       "      <th>director</th>\n",
       "      <th>belongs_to_collection</th>\n",
       "    </tr>\n",
       "  </thead>\n",
       "  <tbody>\n",
       "    <tr>\n",
       "      <th>0</th>\n",
       "      <td>862</td>\n",
       "      <td>Toy Story</td>\n",
       "      <td>Animation, Comedy, Family</td>\n",
       "      <td>Led by Woody, Andy's toys live happily in his ...</td>\n",
       "      <td>Tom Hanks, Tim Allen, Don Rickles</td>\n",
       "      <td>John Lasseter</td>\n",
       "      <td>Toy Story Collection</td>\n",
       "    </tr>\n",
       "    <tr>\n",
       "      <th>1</th>\n",
       "      <td>8844</td>\n",
       "      <td>Jumanji</td>\n",
       "      <td>Adventure, Fantasy, Family</td>\n",
       "      <td>When siblings Judy and Peter discover an encha...</td>\n",
       "      <td>Robin Williams, Jonathan Hyde, Kirsten Dunst</td>\n",
       "      <td>Joe Johnston</td>\n",
       "      <td>No collecction</td>\n",
       "    </tr>\n",
       "    <tr>\n",
       "      <th>2</th>\n",
       "      <td>15602</td>\n",
       "      <td>Grumpier Old Men</td>\n",
       "      <td>Romance, Comedy</td>\n",
       "      <td>A family wedding reignites the ancient feud be...</td>\n",
       "      <td>Walter Matthau, Jack Lemmon, Ann-Margret</td>\n",
       "      <td>Howard Deutch</td>\n",
       "      <td>Grumpy Old Men Collection</td>\n",
       "    </tr>\n",
       "  </tbody>\n",
       "</table>\n",
       "</div>"
      ],
      "text/plain": [
       "      id             title                      genres  \\\n",
       "0    862         Toy Story   Animation, Comedy, Family   \n",
       "1   8844           Jumanji  Adventure, Fantasy, Family   \n",
       "2  15602  Grumpier Old Men             Romance, Comedy   \n",
       "\n",
       "                                            overview  \\\n",
       "0  Led by Woody, Andy's toys live happily in his ...   \n",
       "1  When siblings Judy and Peter discover an encha...   \n",
       "2  A family wedding reignites the ancient feud be...   \n",
       "\n",
       "                                          actor       director  \\\n",
       "0             Tom Hanks, Tim Allen, Don Rickles  John Lasseter   \n",
       "1  Robin Williams, Jonathan Hyde, Kirsten Dunst   Joe Johnston   \n",
       "2      Walter Matthau, Jack Lemmon, Ann-Margret  Howard Deutch   \n",
       "\n",
       "       belongs_to_collection  \n",
       "0       Toy Story Collection  \n",
       "1             No collecction  \n",
       "2  Grumpy Old Men Collection  "
      ]
     },
     "execution_count": 4,
     "metadata": {},
     "output_type": "execute_result"
    }
   ],
   "source": [
    "df.head(3)"
   ]
  },
  {
   "cell_type": "code",
   "execution_count": 5,
   "metadata": {},
   "outputs": [
    {
     "name": "stdout",
     "output_type": "stream",
     "text": [
      "<class 'pandas.core.frame.DataFrame'>\n",
      "RangeIndex: 21631 entries, 0 to 21630\n",
      "Data columns (total 7 columns):\n",
      " #   Column                 Non-Null Count  Dtype \n",
      "---  ------                 --------------  ----- \n",
      " 0   id                     21631 non-null  int32 \n",
      " 1   title                  21631 non-null  object\n",
      " 2   genres                 21631 non-null  object\n",
      " 3   overview               21631 non-null  object\n",
      " 4   actor                  21631 non-null  object\n",
      " 5   director               21631 non-null  object\n",
      " 6   belongs_to_collection  21631 non-null  object\n",
      "dtypes: int32(1), object(6)\n",
      "memory usage: 1.1+ MB\n"
     ]
    }
   ],
   "source": [
    "df.info()"
   ]
  },
  {
   "cell_type": "code",
   "execution_count": 78,
   "metadata": {},
   "outputs": [],
   "source": [
    "# Inicializa el vectorizador TF-IDF\n",
    "tfidf = TfidfVectorizer(stop_words='english')\n",
    "\n",
    "# Genera la matriz de TF-IDF para 'overview'\n",
    "tfidf_matrix = tfidf.fit_transform(df['overview'])"
   ]
  },
  {
   "cell_type": "code",
   "execution_count": null,
   "metadata": {},
   "outputs": [],
   "source": [
    "# Función para extraer y unificar la información de género, actor, director y coleccion\n",
    "def combine_features(row):\n",
    "    return row['genres'] + \" \" + row['actor'] + \" \" + row['director']+ \" \" + row['belongs_to_collection']\n",
    "\n",
    "# Aplica la función de combinación de características\n",
    "df['combined_features'] = df.apply(combine_features, axis=1)"
   ]
  },
  {
   "cell_type": "code",
   "execution_count": 80,
   "metadata": {},
   "outputs": [],
   "source": [
    "tfidf_combined = TfidfVectorizer(max_features=5000, stop_words='english')\n",
    "combined_matrix = tfidf_combined.fit_transform(df['combined_features'])"
   ]
  },
  {
   "cell_type": "code",
   "execution_count": 92,
   "metadata": {},
   "outputs": [],
   "source": [
    "# Calcula la similitud del coseno sobre la matriz TF-IDF de la combinación de características\n",
    "cosine_sim = cosine_similarity(combined_matrix)"
   ]
  },
  {
   "cell_type": "code",
   "execution_count": null,
   "metadata": {},
   "outputs": [
    {
     "data": {
      "text/plain": [
       "['df.pkl']"
      ]
     },
     "execution_count": 93,
     "metadata": {},
     "output_type": "execute_result"
    }
   ],
   "source": [
    "# Guardar las matrices usando joblib\n",
    "#joblib.dump(combined_matrix, 'combined_matrix.pkl')\n",
    "#joblib.dump(cosine_sim, 'cosine_sim.pkl')\n",
    "#joblib.dump(df, 'df.pkl')"
   ]
  },
  {
   "cell_type": "code",
   "execution_count": 94,
   "metadata": {},
   "outputs": [],
   "source": [
    "def get_recommendations_1(title, cosine_sim):\n",
    "    # Normaliza el título para evitar problemas con mayúsculas/minúsculas\n",
    "    title = title.strip().lower()\n",
    "\n",
    "    # Filtra el DataFrame con una comparación insensible a las mayúsculas\n",
    "    matches = df[df['title'].str.lower() == title]\n",
    "\n",
    "    # Verifica si se encontraron coincidencias\n",
    "    if matches.empty:\n",
    "        return f\"No se encontró la película '{title.capitalize()}' en el DataFrame.\"\n",
    "\n",
    "    try:\n",
    "        # Obtiene el índice de la primera coincidencia\n",
    "        idx = matches.index[0]\n",
    "\n",
    "        # Calcula las puntuaciones de similitud de todas las películas\n",
    "        sim_scores = list(enumerate(cosine_sim[idx]))\n",
    "\n",
    "        # Ordena las películas según los puntajes de similitud\n",
    "        sim_scores = sorted(sim_scores, key=lambda x: x[1], reverse=True)\n",
    "\n",
    "        # Obtén los índices de las 5 películas más similares (excluyendo la misma)\n",
    "        top_indices = [i[0] for i in sim_scores[1:6]]\n",
    "\n",
    "        # Retorna los títulos de las películas recomendadas\n",
    "        return df['title'].iloc[top_indices].tolist()\n",
    "    \n",
    "    except Exception as e:\n",
    "        return f\"Error: {str(e)}\"\n",
    "\n"
   ]
  },
  {
   "cell_type": "code",
   "execution_count": 83,
   "metadata": {},
   "outputs": [
    {
     "data": {
      "text/plain": [
       "['Shrek 2',\n",
       " 'Shrek Forever After',\n",
       " 'Shrek the Third',\n",
       " 'Shrek the Halls',\n",
       " 'Scared Shrekless']"
      ]
     },
     "execution_count": 83,
     "metadata": {},
     "output_type": "execute_result"
    }
   ],
   "source": [
    "# Llamar a la función\n",
    "get_recommendations_1('Shrek', cosine_sim)"
   ]
  },
  {
   "cell_type": "code",
   "execution_count": 95,
   "metadata": {},
   "outputs": [
    {
     "data": {
      "text/plain": [
       "['Star Wars: The Force Awakens',\n",
       " 'Star Wars: Episode I - The Phantom Menace',\n",
       " 'Star Wars: Episode II - Attack of the Clones',\n",
       " 'Star Wars: Episode III - Revenge of the Sith',\n",
       " 'The Ewok Adventure']"
      ]
     },
     "execution_count": 95,
     "metadata": {},
     "output_type": "execute_result"
    }
   ],
   "source": [
    "get_recommendations_1('Return of the Jedi', cosine_sim)"
   ]
  },
  {
   "cell_type": "code",
   "execution_count": 85,
   "metadata": {},
   "outputs": [
    {
     "data": {
      "text/plain": [
       "['Revolutionary Road',\n",
       " 'Before the Flood',\n",
       " 'The Basketball Diaries',\n",
       " 'Gangs of New York',\n",
       " 'Hubble 3D']"
      ]
     },
     "execution_count": 85,
     "metadata": {},
     "output_type": "execute_result"
    }
   ],
   "source": [
    "get_recommendations_1('Titanic', cosine_sim)"
   ]
  },
  {
   "cell_type": "code",
   "execution_count": 86,
   "metadata": {},
   "outputs": [
    {
     "data": {
      "text/plain": [
       "['Green Lantern: Emerald Knights',\n",
       " 'Waitress',\n",
       " 'Highway of Tears',\n",
       " 'Trucker',\n",
       " 'The Little Traitor']"
      ]
     },
     "execution_count": 86,
     "metadata": {},
     "output_type": "execute_result"
    }
   ],
   "source": [
    "get_recommendations_1('Wonder Woman', cosine_sim)"
   ]
  },
  {
   "cell_type": "code",
   "execution_count": 88,
   "metadata": {},
   "outputs": [
    {
     "data": {
      "text/plain": [
       "['Avatar 2',\n",
       " 'Aliens',\n",
       " 'Guardians of the Galaxy',\n",
       " 'Guardians of the Galaxy Vol. 2',\n",
       " 'Snow White: A Tale of Terror']"
      ]
     },
     "execution_count": 88,
     "metadata": {},
     "output_type": "execute_result"
    }
   ],
   "source": [
    "get_recommendations_1('Avatar', cosine_sim)"
   ]
  },
  {
   "cell_type": "code",
   "execution_count": 89,
   "metadata": {},
   "outputs": [
    {
     "data": {
      "text/plain": [
       "['Batman',\n",
       " 'Dark Shadows',\n",
       " 'The War of the Roses',\n",
       " 'Hansel and Gretel',\n",
       " 'Throw Momma from the Train']"
      ]
     },
     "execution_count": 89,
     "metadata": {},
     "output_type": "execute_result"
    }
   ],
   "source": [
    "get_recommendations_1('Batman Returns', cosine_sim)"
   ]
  },
  {
   "cell_type": "code",
   "execution_count": 90,
   "metadata": {},
   "outputs": [
    {
     "data": {
      "text/plain": [
       "['Toy Story 2', 'Toy Story 3', 'Luxo Jr.', 'Tin Toy', \"Red's Dream\"]"
      ]
     },
     "execution_count": 90,
     "metadata": {},
     "output_type": "execute_result"
    }
   ],
   "source": [
    "get_recommendations_1('Toy Story', cosine_sim)"
   ]
  }
 ],
 "metadata": {
  "kernelspec": {
   "display_name": "Python 3",
   "language": "python",
   "name": "python3"
  },
  "language_info": {
   "codemirror_mode": {
    "name": "ipython",
    "version": 3
   },
   "file_extension": ".py",
   "mimetype": "text/x-python",
   "name": "python",
   "nbconvert_exporter": "python",
   "pygments_lexer": "ipython3",
   "version": "3.11.4"
  }
 },
 "nbformat": 4,
 "nbformat_minor": 2
}
